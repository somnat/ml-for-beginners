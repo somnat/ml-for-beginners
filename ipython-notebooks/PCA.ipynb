{
 "cells": [
  {
   "cell_type": "code",
   "execution_count": 8,
   "metadata": {
    "scrolled": true
   },
   "outputs": [],
   "source": [
    "import numpy as np\n",
    "import logging\n",
    "from pca import PCA\n",
    "\n",
    "logging.basicConfig()\n",
    "logger = logging.getLogger(__name__)\n",
    "logger.setLevel(logging.INFO)"
   ]
  },
  {
   "cell_type": "code",
   "execution_count": 9,
   "metadata": {},
   "outputs": [
    {
     "data": {
      "text/plain": [
       "array([ 0.93676841,  0.34958469, -0.0159843 ])"
      ]
     },
     "execution_count": 9,
     "metadata": {},
     "output_type": "execute_result"
    }
   ],
   "source": [
    "X = np.array([[4.0, 4.2, 3.9, 4.3, 4.1], [2.0, 2.1, 2.0, 2.1, 2.2], [0.60, 0.59, 0.58, 0.62, 0.63]])\n",
    "PCA.principal_component(X)"
   ]
  },
  {
   "cell_type": "code",
   "execution_count": 3,
   "metadata": {},
   "outputs": [],
   "source": [
    "class PCA(object):\n",
    "    @staticmethod\n",
    "    def cov_mat(X):\n",
    "        \"\"\"Objects of this class is a Principal component.\n",
    "\n",
    "       Examples\n",
    "       --------\n",
    "       >>> import numpy as np\n",
    "       >>> X = np.array([[1,2,3,4,5], [2,3,6,9,0], [8,1,6,4,3]])\n",
    "\n",
    "       Parameter\n",
    "       -------------\n",
    "       X : A numpy array\n",
    "       \"\"\"\n",
    "        row_X, size_row_X = np.shape(X)\n",
    "        X_mean0 = np.empty(shape=np.shape(X))\n",
    "        temp_list = list()\n",
    "\n",
    "        \"\"\"\n",
    "         Variables:\n",
    "         ---------\n",
    "         row_X: number of lists in the input data X\n",
    "         size_row_X: number of elements in each each lists\n",
    "         X_mean0 : The transformed X when subtracted from mean\n",
    "        \"\"\"\n",
    "        for i in range(row_X):\n",
    "            mean_i = (np.sum(X[i]))/size_row_X\n",
    "            for j in X[i]:\n",
    "                j = j - mean_i\n",
    "                temp_list.append(j)\n",
    "            X_mean0[i] = temp_list\n",
    "            temp_list = []\n",
    "        print(X_mean0)\n",
    "        cov_matrix = np.dot(X_mean0, X_mean0.T)/(size_row_X - 1)\n",
    "        print(row_X)\n",
    "        \n",
    "        return cov_matrix\n",
    "\n",
    "    def principal_component(X):\n",
    "        Y = PCA.cov_mat(X)\n",
    "        print(Y, \"cov\")\n",
    "        eigen_val, eigen_vec = np.linalg.eig(Y)\n",
    "        \"\"\" eigenvalue and eigen vectors are extracted through a\n",
    "         square matrix which is the covariance matrix in our case.\n",
    "         Variables:\n",
    "         ---------\n",
    "         eigen_val: eignevalue of the input data X\n",
    "         eigen_vec: eignenvector of the input data X\n",
    "        \"\"\"\n",
    "        maximum = np.max(eigen_val)\n",
    "        index_pc = eigen_val.tolist().index(maximum)\n",
    "        print(eigen_val)\n",
    "        print(eigen_vec)\n",
    "        return eigen_vec[index_pc]"
   ]
  },
  {
   "cell_type": "code",
   "execution_count": 4,
   "metadata": {},
   "outputs": [
    {
     "name": "stdout",
     "output_type": "stream",
     "text": [
      "[[-0.1    0.1   -0.2    0.2    0.   ]\n",
      " [-0.08   0.02  -0.08   0.02   0.12 ]\n",
      " [-0.004 -0.014 -0.024  0.016  0.026]]\n",
      "3\n",
      "[[0.025   0.0075  0.00175]\n",
      " [0.0075  0.007   0.00135]\n",
      " [0.00175 0.00135 0.00043]] cov\n",
      "[0.02787694 0.00439387 0.0001592 ]\n",
      "[[ 0.93676841  0.34958469 -0.0159843 ]\n",
      " [ 0.34148069 -0.92313136 -0.1766902 ]\n",
      " [ 0.0765238  -0.16005947  0.98413672]]\n"
     ]
    },
    {
     "data": {
      "text/plain": [
       "array([ 0.93676841,  0.34958469, -0.0159843 ])"
      ]
     },
     "execution_count": 4,
     "metadata": {},
     "output_type": "execute_result"
    }
   ],
   "source": [
    "X = np.array([[4.0, 4.2, 3.9, 4.3, 4.1], [2.0, 2.1, 2.0, 2.1, 2.2], [0.60, 0.59, 0.58, 0.62, 0.63]])\n",
    "PCA.principal_component(X)"
   ]
  },
  {
   "cell_type": "code",
   "execution_count": 5,
   "metadata": {},
   "outputs": [
    {
     "data": {
      "text/plain": [
       "PCA(copy=True, iterated_power='auto', n_components=2, random_state=None,\n",
       "  svd_solver='auto', tol=0.0, whiten=False)"
      ]
     },
     "execution_count": 5,
     "metadata": {},
     "output_type": "execute_result"
    }
   ],
   "source": [
    "from sklearn.decomposition import PCA\n",
    "pca = PCA(n_components=2)\n",
    "pca.fit(X)"
   ]
  },
  {
   "cell_type": "code",
   "execution_count": 6,
   "metadata": {},
   "outputs": [
    {
     "name": "stdout",
     "output_type": "stream",
     "text": [
      "[5.55408017 0.10981844]\n"
     ]
    }
   ],
   "source": [
    "print(pca.singular_values_)"
   ]
  },
  {
   "cell_type": "code",
   "execution_count": 7,
   "metadata": {},
   "outputs": [
    {
     "name": "stdout",
     "output_type": "stream",
     "text": [
      "[9.99609198e-01 3.90801764e-04]\n"
     ]
    }
   ],
   "source": [
    "print(pca.explained_variance_ratio_)"
   ]
  },
  {
   "cell_type": "code",
   "execution_count": null,
   "metadata": {},
   "outputs": [],
   "source": []
  }
 ],
 "metadata": {
  "kernelspec": {
   "display_name": "Python 3",
   "language": "python",
   "name": "python3"
  },
  "language_info": {
   "codemirror_mode": {
    "name": "ipython",
    "version": 3
   },
   "file_extension": ".py",
   "mimetype": "text/x-python",
   "name": "python",
   "nbconvert_exporter": "python",
   "pygments_lexer": "ipython3",
   "version": "3.5.2"
  }
 },
 "nbformat": 4,
 "nbformat_minor": 2
}
